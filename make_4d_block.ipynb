{
 "cells": [
  {
   "cell_type": "code",
   "execution_count": 1,
   "metadata": {},
   "outputs": [],
   "source": [
    "import torch\n",
    "import torchvision\n",
    "import torchvision.transforms as transforms\n",
    "import torch.nn as nn\n",
    "import torch.nn.functional as F\n",
    "import torch.optim as optim\n",
    "import PIL\n",
    "import numpy as np\n",
    "import matplotlib.pylab as plt\n",
    "import os\n",
    "\n",
    "%matplotlib inline"
   ]
  },
  {
   "cell_type": "code",
   "execution_count": 2,
   "metadata": {},
   "outputs": [],
   "source": [
    "import modules.custom_transformers as custom_transformers"
   ]
  },
  {
   "cell_type": "markdown",
   "metadata": {},
   "source": [
    "## TODO \\#2: Make a transform that turns the image into a 4d block\n",
    "\n",
    "### 27 channels (9 basis functions * 3 original channels) x scale x height x width\n"
   ]
  },
  {
   "cell_type": "code",
   "execution_count": 3,
   "metadata": {},
   "outputs": [],
   "source": [
    "trainset_ycbcr = torchvision.datasets.CIFAR10(\n",
    "    root='./image_files',\n",
    "    train=True,\n",
    "    download=False,\n",
    "    transform=transforms.Compose([\n",
    "        transforms.ToTensor(),\n",
    "        custom_transformers.ToYCbYr()\n",
    "    ])\n",
    ")\n",
    "trainloader_ycbcr = torch.utils.data.DataLoader(trainset_ycbcr, batch_size=128, shuffle=False, num_workers=0)\n",
    "gen_ycbcr = iter(trainloader_ycbcr)\n",
    "images_cpu_ycbcr, labels_cpu_ycbcr = next(gen_ycbcr)"
   ]
  },
  {
   "cell_type": "code",
   "execution_count": 4,
   "metadata": {},
   "outputs": [],
   "source": [
    "class StackDCTs(nn.Module):\n",
    "    \n",
    "    @staticmethod\n",
    "    def make_bases(length, num_bases):\n",
    "        xs = torch.tensor(range(length)).type(torch.FloatTensor)\n",
    "        bases = [\n",
    "            torch.cos(np.pi * p * (2. * xs + 1) / (2 * length))\n",
    "            for p in range(num_bases)\n",
    "        ]\n",
    "\n",
    "        def mesh_bases(b1, b2):\n",
    "            rr, cc = torch.meshgrid([b1, b2])\n",
    "            return rr * cc\n",
    "\n",
    "        full_bases = torch.stack([\n",
    "            mesh_bases(b1, b2)\n",
    "            for b1 in bases\n",
    "            for b2 in bases\n",
    "        ])\n",
    "        return full_bases\n",
    "\n",
    "    def __init__(self, num_bases, lengths):\n",
    "        super(StackDCTs, self).__init__()\n",
    "        self.num_bases = num_bases\n",
    "        self.lengths = lengths.copy()\n",
    "        for length in self.lengths:\n",
    "            buffer_name = 'basis_convolution_weights_{0}'.format(length)\n",
    "            self.register_buffer(\n",
    "                buffer_name,\n",
    "                StackDCTs.make_bases(length, num_bases).repeat(3,1,1).unsqueeze(1)\n",
    "            )\n",
    "            \n",
    "    def forward(self, minibatch):\n",
    "        scales = []\n",
    "        for length in self.lengths:\n",
    "            buffer_name = 'basis_convolution_weights_{0}'.format(length)\n",
    "            repeated_bases = self.state_dict()[buffer_name]\n",
    "            left_padding = (repeated_bases.shape[-1] - 1) // 2\n",
    "            right_padding = repeated_bases.shape[-1] - 1 - left_padding\n",
    "            top_padding = (repeated_bases.shape[-2] - 1) // 2\n",
    "            bottom_padding = repeated_bases.shape[-2] - 1 - top_padding\n",
    "            minibatch_padded = F.pad(\n",
    "                minibatch,\n",
    "                (left_padding, right_padding, top_padding, bottom_padding)\n",
    "            )\n",
    "            scales.append(F.conv2d(\n",
    "                input=minibatch_padded,\n",
    "                weight=repeated_bases,\n",
    "                groups=3\n",
    "            ))\n",
    "        return torch.stack(scales, dim=2)\n"
   ]
  },
  {
   "cell_type": "code",
   "execution_count": 7,
   "metadata": {},
   "outputs": [
    {
     "data": {
      "text/plain": [
       "torch.Size([128, 27, 7, 32, 32])"
      ]
     },
     "execution_count": 7,
     "metadata": {},
     "output_type": "execute_result"
    }
   ],
   "source": [
    "sd = StackDCTs(3, [3, 4, 6, 8, 11, 16, 22])\n",
    "my_block = sd(images_cpu_ycbcr)\n",
    "my_block.shape"
   ]
  },
  {
   "cell_type": "code",
   "execution_count": 8,
   "metadata": {},
   "outputs": [],
   "source": [
    "sd_cuda = StackDCTs(3, [3, 4, 6, 8, 11, 16, 22]).to('cuda')\n",
    "images_ycbcr = images_cpu_ycbcr.to('cuda')\n",
    "my_block_cuda = sd_cuda(images_ycbcr)"
   ]
  },
  {
   "cell_type": "code",
   "execution_count": 11,
   "metadata": {},
   "outputs": [
    {
     "data": {
      "text/plain": [
       "torch.Size([128, 27, 7, 32, 32])"
      ]
     },
     "execution_count": 11,
     "metadata": {},
     "output_type": "execute_result"
    }
   ],
   "source": [
    "for i in range(10):\n",
    "    my_block = sd(images_cpu_ycbcr)\n",
    "my_block.shape"
   ]
  },
  {
   "cell_type": "code",
   "execution_count": 12,
   "metadata": {},
   "outputs": [
    {
     "data": {
      "text/plain": [
       "torch.Size([128, 27, 7, 32, 32])"
      ]
     },
     "execution_count": 12,
     "metadata": {},
     "output_type": "execute_result"
    }
   ],
   "source": [
    "for i in range(10):\n",
    "    my_block_cuda = sd_cuda(images_ycbcr)\n",
    "my_block_cuda.shape"
   ]
  },
  {
   "cell_type": "code",
   "execution_count": null,
   "metadata": {},
   "outputs": [],
   "source": [
    "def make_bases(length, num_bases):\n",
    "    xs = torch.tensor(range(length)).type(torch.FloatTensor)\n",
    "    bases = [\n",
    "        torch.cos(np.pi * p * (2. * xs + 1) / (2 * length))\n",
    "        for p in range(num_bases)\n",
    "    ]\n",
    "\n",
    "    def mesh_bases(b1, b2):\n",
    "        rr, cc = torch.meshgrid([b1, b2])\n",
    "        return rr * cc\n",
    "\n",
    "    full_bases = torch.stack([\n",
    "        mesh_bases(b1, b2)\n",
    "        for b1 in bases\n",
    "        for b2 in bases\n",
    "    ])\n",
    "    return full_bases\n"
   ]
  },
  {
   "cell_type": "code",
   "execution_count": null,
   "metadata": {},
   "outputs": [],
   "source": [
    "num_bases = 3\n",
    "for length in [6, 16]:\n",
    "    fig, axes = plt.subplots(\n",
    "        num_bases, num_bases,\n",
    "        subplot_kw={'xticks': [], 'yticks': []},\n",
    "        figsize=(6, 6)\n",
    "    )\n",
    "    bases = make_bases(length, num_bases)\n",
    "    for i, ax in enumerate(axes.flat):\n",
    "        ax.imshow(bases[i])\n",
    "    plt.tight_layout()\n",
    "    plt.show()\n",
    "    print('-' * 60)\n"
   ]
  },
  {
   "cell_type": "code",
   "execution_count": null,
   "metadata": {},
   "outputs": [],
   "source": [
    "bases.shape"
   ]
  },
  {
   "cell_type": "code",
   "execution_count": null,
   "metadata": {},
   "outputs": [],
   "source": [
    "images_cpu_ycbcr.shape"
   ]
  },
  {
   "cell_type": "code",
   "execution_count": null,
   "metadata": {},
   "outputs": [],
   "source": [
    "bases.repeat(3,1,1).unsqueeze(1).shape"
   ]
  },
  {
   "cell_type": "code",
   "execution_count": null,
   "metadata": {},
   "outputs": [],
   "source": [
    "repeated_bases = bases.repeat(3,1,1).unsqueeze(1)"
   ]
  },
  {
   "cell_type": "code",
   "execution_count": null,
   "metadata": {},
   "outputs": [],
   "source": [
    "repeated_bases.shape"
   ]
  },
  {
   "cell_type": "markdown",
   "metadata": {},
   "source": [
    "output width = input width + left padding + right padding - kernel width + 1\n",
    "\n",
    "input width = bases.shape\\[-1\\]\n",
    "\n",
    "kernel width = repeated_bases.shape\\[-1\\]\n",
    "\n",
    "want output width = input width\n",
    "\n",
    "padding should be (kernel width - 1)/2\n",
    "\n",
    "if that's an even number, then:\n",
    "\n",
    "output width = input width + 2*(kernel width - 1)/2  - kernel width + 1 = input width\n",
    "\n",
    "if kernel width is even, then use\n",
    "\n",
    "left padding = kernel width / 2 - 1\n",
    "\n",
    "right padding = kernel width / 2\n",
    "\n",
    "then:\n",
    "\n",
    "output width = input width + (kernel width / 2 - 1) + (kernel width / 2) - kernel width + 1\n",
    "\n",
    "= input width + kernel width - 1 - kernel width + 1\n",
    "\n",
    "= input width\n",
    "\n",
    "\n",
    "in all cases, want left_padding + right_padding - kernel width + 1 == 0\n",
    "\n",
    "so given left_padding, set right_padding = kernel width - 1 - left_padding"
   ]
  },
  {
   "cell_type": "code",
   "execution_count": null,
   "metadata": {},
   "outputs": [],
   "source": [
    "left_padding = (repeated_bases.shape[-1] - 1) // 2\n",
    "right_padding = repeated_bases.shape[-1] - 1 - left_padding\n",
    "top_padding = (repeated_bases.shape[-2] - 1) // 2\n",
    "bottom_padding = repeated_bases.shape[-2] - 1 - top_padding\n",
    "images_padded = F.pad(images_cpu_ycbcr, (left_padding, right_padding, top_padding, bottom_padding))"
   ]
  },
  {
   "cell_type": "code",
   "execution_count": null,
   "metadata": {},
   "outputs": [],
   "source": [
    "maybe_convolved = F.conv2d(\n",
    "    input=images_padded,\n",
    "    weight=repeated_bases,\n",
    "    groups=3\n",
    ")"
   ]
  },
  {
   "cell_type": "code",
   "execution_count": null,
   "metadata": {},
   "outputs": [],
   "source": [
    "maybe_convolved.shape"
   ]
  },
  {
   "cell_type": "code",
   "execution_count": null,
   "metadata": {},
   "outputs": [],
   "source": [
    "images_cpu_ycbcr[0,1,:16,:16].sum()"
   ]
  },
  {
   "cell_type": "code",
   "execution_count": null,
   "metadata": {},
   "outputs": [],
   "source": [
    "maybe_convolved.shape"
   ]
  },
  {
   "cell_type": "code",
   "execution_count": null,
   "metadata": {},
   "outputs": [],
   "source": [
    "bases_2 = make_bases(6, 3)"
   ]
  },
  {
   "cell_type": "code",
   "execution_count": null,
   "metadata": {},
   "outputs": [],
   "source": [
    "repeated_bases_2 = bases_2.repeat(3,1,1).unsqueeze(1)"
   ]
  },
  {
   "cell_type": "code",
   "execution_count": null,
   "metadata": {},
   "outputs": [],
   "source": [
    "left_padding_2 = (repeated_bases_2.shape[-1] - 1) // 2\n",
    "right_padding_2 = repeated_bases_2.shape[-1] - 1 - left_padding_2\n",
    "top_padding_2 = (repeated_bases_2.shape[-2] - 1) // 2\n",
    "bottom_padding_2 = repeated_bases_2.shape[-2] - 1 - top_padding_2\n",
    "images_padded_2 = F.pad(images_cpu_ycbcr, (left_padding_2, right_padding_2, top_padding_2, bottom_padding_2))"
   ]
  },
  {
   "cell_type": "code",
   "execution_count": null,
   "metadata": {},
   "outputs": [],
   "source": [
    "maybe_convolved_2 = F.conv2d(\n",
    "    input=images_padded_2,\n",
    "    weight=repeated_bases_2,\n",
    "    groups=3\n",
    ")"
   ]
  },
  {
   "cell_type": "code",
   "execution_count": null,
   "metadata": {},
   "outputs": [],
   "source": [
    "maybe_convolved_2.shape"
   ]
  },
  {
   "cell_type": "code",
   "execution_count": null,
   "metadata": {},
   "outputs": [],
   "source": [
    "maybe_convolved.mean(dim=(0,2,3))"
   ]
  },
  {
   "cell_type": "code",
   "execution_count": null,
   "metadata": {},
   "outputs": [],
   "source": [
    "maybe_convolved_2.mean(dim=(0,2,3))"
   ]
  },
  {
   "cell_type": "code",
   "execution_count": null,
   "metadata": {},
   "outputs": [],
   "source": [
    "torch.stack([\n",
    "    maybe_convolved,\n",
    "    maybe_convolved_2,\n",
    "], dim=2).shape"
   ]
  },
  {
   "cell_type": "code",
   "execution_count": null,
   "metadata": {},
   "outputs": [],
   "source": []
  },
  {
   "cell_type": "code",
   "execution_count": null,
   "metadata": {},
   "outputs": [],
   "source": []
  },
  {
   "cell_type": "code",
   "execution_count": null,
   "metadata": {},
   "outputs": [],
   "source": []
  },
  {
   "cell_type": "code",
   "execution_count": null,
   "metadata": {},
   "outputs": [],
   "source": [
    "sd.state_dict()['basis_convolution_weights_5'].shape"
   ]
  },
  {
   "cell_type": "code",
   "execution_count": null,
   "metadata": {},
   "outputs": [],
   "source": []
  }
 ],
 "metadata": {
  "kernelspec": {
   "display_name": "Python 3",
   "language": "python",
   "name": "python3"
  },
  "language_info": {
   "codemirror_mode": {
    "name": "ipython",
    "version": 3
   },
   "file_extension": ".py",
   "mimetype": "text/x-python",
   "name": "python",
   "nbconvert_exporter": "python",
   "pygments_lexer": "ipython3",
   "version": "3.7.0"
  }
 },
 "nbformat": 4,
 "nbformat_minor": 2
}
