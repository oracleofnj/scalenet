{
 "cells": [
  {
   "cell_type": "code",
   "execution_count": 1,
   "metadata": {},
   "outputs": [],
   "source": [
    "import torch\n",
    "import torchvision\n",
    "import torchvision.transforms as transforms\n",
    "import torch.nn as nn\n",
    "import torch.nn.functional as F\n",
    "import torch.optim as optim\n",
    "import PIL\n",
    "import numpy as np\n",
    "import matplotlib.pylab as plt\n",
    "import os"
   ]
  },
  {
   "cell_type": "code",
   "execution_count": 2,
   "metadata": {},
   "outputs": [],
   "source": [
    "from modules.utils import load_cifar10, load_cifar100"
   ]
  },
  {
   "cell_type": "code",
   "execution_count": 3,
   "metadata": {},
   "outputs": [
    {
     "name": "stdout",
     "output_type": "stream",
     "text": [
      "getting batch 1\n",
      "getting batch 2\n",
      "getting batch 3\n",
      "getting batch 4\n",
      "getting batch 5\n"
     ]
    }
   ],
   "source": [
    "images, labels = load_cifar10(get_test_data=False)"
   ]
  },
  {
   "cell_type": "code",
   "execution_count": 4,
   "metadata": {},
   "outputs": [
    {
     "data": {
      "text/plain": [
       "<matplotlib.image.AxesImage at 0x7efcdc8d2cf8>"
      ]
     },
     "execution_count": 4,
     "metadata": {},
     "output_type": "execute_result"
    },
    {
     "data": {
      "image/png": "[encoded data removed]",
      "text/plain": [
       "<Figure size 432x288 with 1 Axes>"
      ]
     },
     "metadata": {
      "needs_background": "light"
     },
     "output_type": "display_data"
    }
   ],
   "source": [
    "plt.imshow(images[4])"
   ]
  },
  {
   "cell_type": "code",
   "execution_count": 5,
   "metadata": {},
   "outputs": [
    {
     "data": {
      "text/plain": [
       "(32, 32, 3)"
      ]
     },
     "execution_count": 5,
     "metadata": {},
     "output_type": "execute_result"
    }
   ],
   "source": [
    "images[4].shape"
   ]
  },
  {
   "cell_type": "code",
   "execution_count": 6,
   "metadata": {},
   "outputs": [],
   "source": [
    "trainset = torchvision.datasets.CIFAR10(\n",
    "    root='./image_files',\n",
    "    train=True,\n",
    "    download=False,\n",
    "    transform=transforms.ToTensor()\n",
    ")\n",
    "trainloader = torch.utils.data.DataLoader(trainset, batch_size=16, shuffle=False, num_workers=0)"
   ]
  },
  {
   "cell_type": "code",
   "execution_count": 7,
   "metadata": {},
   "outputs": [],
   "source": [
    "gen = iter(trainloader)"
   ]
  },
  {
   "cell_type": "code",
   "execution_count": 8,
   "metadata": {},
   "outputs": [],
   "source": [
    "im_cpu, l_cpu = next(gen)"
   ]
  },
  {
   "cell_type": "code",
   "execution_count": 14,
   "metadata": {},
   "outputs": [],
   "source": [
    "im_cpu_matplotlib = torch.transpose(torch.transpose(im_cpu, -3, -1), -3, -2)"
   ]
  },
  {
   "cell_type": "code",
   "execution_count": 15,
   "metadata": {},
   "outputs": [
    {
     "data": {
      "text/plain": [
       "<matplotlib.image.AxesImage at 0x7efcdb220a20>"
      ]
     },
     "execution_count": 15,
     "metadata": {},
     "output_type": "execute_result"
    },
    {
     "data": {
      "image/png": "[encoded data removed]",
      "text/plain": [
       "<Figure size 432x288 with 1 Axes>"
      ]
     },
     "metadata": {
      "needs_background": "light"
     },
     "output_type": "display_data"
    }
   ],
   "source": [
    "plt.imshow(im_cpu_matplotlib[4])"
   ]
  },
  {
   "cell_type": "code",
   "execution_count": 18,
   "metadata": {},
   "outputs": [],
   "source": [
    "im_rfft = torch.rfft(im_cpu, 2, onesided=False)"
   ]
  },
  {
   "cell_type": "code",
   "execution_count": 19,
   "metadata": {},
   "outputs": [
    {
     "data": {
      "text/plain": [
       "torch.Size([16, 3, 32, 32, 2])"
      ]
     },
     "execution_count": 19,
     "metadata": {},
     "output_type": "execute_result"
    }
   ],
   "source": [
    "im_rfft.shape"
   ]
  },
  {
   "cell_type": "code",
   "execution_count": 35,
   "metadata": {},
   "outputs": [],
   "source": [
    "lowpass = torch.ones(32, 32, 2)\n",
    "lowpass[16:-16,:,:] = 0\n",
    "lowpass[:,16:-8,:] = 0"
   ]
  },
  {
   "cell_type": "code",
   "execution_count": 36,
   "metadata": {},
   "outputs": [
    {
     "data": {
      "text/plain": [
       "torch.Size([32, 32, 2])"
      ]
     },
     "execution_count": 36,
     "metadata": {},
     "output_type": "execute_result"
    }
   ],
   "source": [
    "lowpass.shape"
   ]
  },
  {
   "cell_type": "code",
   "execution_count": 39,
   "metadata": {},
   "outputs": [],
   "source": [
    "im_lowpassed_fft = im_rfft * lowpass"
   ]
  },
  {
   "cell_type": "code",
   "execution_count": 40,
   "metadata": {},
   "outputs": [],
   "source": [
    "im_lowpassed = torch.irfft(im_lowpassed_fft, 2, onesided=False)"
   ]
  },
  {
   "cell_type": "code",
   "execution_count": 41,
   "metadata": {},
   "outputs": [],
   "source": [
    "im_lowpassed_matplotlib = torch.transpose(torch.transpose(im_lowpassed, -3, -1), -3, -2)"
   ]
  },
  {
   "cell_type": "code",
   "execution_count": 42,
   "metadata": {},
   "outputs": [
    {
     "name": "stderr",
     "output_type": "stream",
     "text": [
      "Clipping input data to the valid range for imshow with RGB data ([0..1] for floats or [0..255] for integers).\n"
     ]
    },
    {
     "data": {
      "text/plain": [
       "<matplotlib.image.AxesImage at 0x7efcdad6d630>"
      ]
     },
     "execution_count": 42,
     "metadata": {},
     "output_type": "execute_result"
    },
    {
     "data": {
      "image/png": "[encoded data removed]",
      "text/plain": [
       "<Figure size 432x288 with 1 Axes>"
      ]
     },
     "metadata": {
      "needs_background": "light"
     },
     "output_type": "display_data"
    }
   ],
   "source": [
    "plt.imshow(im_lowpassed_matplotlib[4])"
   ]
  },
  {
   "cell_type": "code",
   "execution_count": 29,
   "metadata": {},
   "outputs": [
    {
     "data": {
      "text/plain": [
       "torch.float32"
      ]
     },
     "execution_count": 29,
     "metadata": {},
     "output_type": "execute_result"
    }
   ],
   "source": [
    "im_lowpassed_matplotlib.dtype"
   ]
  },
  {
   "cell_type": "code",
   "execution_count": 30,
   "metadata": {},
   "outputs": [
    {
     "data": {
      "text/plain": [
       "torch.float32"
      ]
     },
     "execution_count": 30,
     "metadata": {},
     "output_type": "execute_result"
    }
   ],
   "source": [
    "im_cpu_matplotlib.dtype"
   ]
  },
  {
   "cell_type": "code",
   "execution_count": 34,
   "metadata": {},
   "outputs": [
    {
     "data": {
      "text/plain": [
       "tensor(-0.0722)"
      ]
     },
     "execution_count": 34,
     "metadata": {},
     "output_type": "execute_result"
    }
   ],
   "source": [
    "torch.min(im_lowpassed_matplotlib[4])"
   ]
  },
  {
   "cell_type": "code",
   "execution_count": 32,
   "metadata": {},
   "outputs": [
    {
     "data": {
      "text/plain": [
       "tensor([[[0.6667, 0.7059, 0.7765],\n",
       "         [0.6588, 0.6980, 0.7686],\n",
       "         [0.6941, 0.7255, 0.7961],\n",
       "         ...,\n",
       "         [0.6353, 0.7020, 0.8431],\n",
       "         [0.6196, 0.6980, 0.8392],\n",
       "         [0.6157, 0.6941, 0.8314]],\n",
       "\n",
       "        [[0.6588, 0.7098, 0.7765],\n",
       "         [0.6745, 0.7255, 0.7882],\n",
       "         [0.6706, 0.7176, 0.7843],\n",
       "         ...,\n",
       "         [0.6235, 0.6941, 0.8314],\n",
       "         [0.6118, 0.6902, 0.8275],\n",
       "         [0.6039, 0.6824, 0.8196]],\n",
       "\n",
       "        [[0.6039, 0.6667, 0.7294],\n",
       "         [0.5843, 0.6471, 0.7098],\n",
       "         [0.5059, 0.5647, 0.6353],\n",
       "         ...,\n",
       "         [0.6314, 0.6980, 0.8392],\n",
       "         [0.6157, 0.6941, 0.8314],\n",
       "         [0.6039, 0.6824, 0.8196]],\n",
       "\n",
       "        ...,\n",
       "\n",
       "        [[0.2902, 0.3294, 0.3137],\n",
       "         [0.2980, 0.3333, 0.3176],\n",
       "         [0.3059, 0.3333, 0.3216],\n",
       "         ...,\n",
       "         [0.2784, 0.2941, 0.3059],\n",
       "         [0.2667, 0.2824, 0.2941],\n",
       "         [0.2392, 0.2549, 0.2667]],\n",
       "\n",
       "        [[0.2667, 0.2980, 0.3020],\n",
       "         [0.2706, 0.3020, 0.3059],\n",
       "         [0.2824, 0.3098, 0.3059],\n",
       "         ...,\n",
       "         [0.2980, 0.3137, 0.3255],\n",
       "         [0.2784, 0.2941, 0.3059],\n",
       "         [0.2784, 0.2941, 0.3059]],\n",
       "\n",
       "        [[0.2627, 0.2941, 0.3059],\n",
       "         [0.2667, 0.2980, 0.3098],\n",
       "         [0.2706, 0.2941, 0.2980],\n",
       "         ...,\n",
       "         [0.2941, 0.3098, 0.3216],\n",
       "         [0.2784, 0.2941, 0.3059],\n",
       "         [0.2863, 0.3020, 0.3137]]])"
      ]
     },
     "execution_count": 32,
     "metadata": {},
     "output_type": "execute_result"
    }
   ],
   "source": [
    "im_cpu_matplotlib[4]"
   ]
  },
  {
   "cell_type": "code",
   "execution_count": 54,
   "metadata": {
    "scrolled": false
   },
   "outputs": [
    {
     "data": {
      "image/png": "[encoded data removed]",
      "text/plain": [
       "<Figure size 432x288 with 1 Axes>"
      ]
     },
     "metadata": {
      "needs_background": "light"
     },
     "output_type": "display_data"
    },
    {
     "data": {
      "image/png": "[encoded data removed]",
      "text/plain": [
       "<Figure size 432x288 with 1 Axes>"
      ]
     },
     "metadata": {
      "needs_background": "light"
     },
     "output_type": "display_data"
    },
    {
     "data": {
      "image/png": "[encoded data removed]",
      "text/plain": [
       "<Figure size 432x288 with 1 Axes>"
      ]
     },
     "metadata": {
      "needs_background": "light"
     },
     "output_type": "display_data"
    },
    {
     "data": {
      "image/png": "[encoded data removed]",
      "text/plain": [
       "<Figure size 432x288 with 1 Axes>"
      ]
     },
     "metadata": {
      "needs_background": "light"
     },
     "output_type": "display_data"
    }
   ],
   "source": [
    "torch.set_printoptions(profile=\"full\")\n",
    "plt.imshow(im_rfft[4][0][:,:4,0])\n",
    "plt.show()\n",
    "plt.imshow(im_rfft[4][0][:,-4:,0])\n",
    "plt.show()\n",
    "plt.imshow(im_rfft[4][0][:,:4,1])\n",
    "plt.show()\n",
    "plt.imshow(im_rfft[4][0][:,-4:,1])\n",
    "plt.show()\n",
    "torch.set_printoptions(profile=\"default\")"
   ]
  },
  {
   "cell_type": "code",
   "execution_count": 56,
   "metadata": {
    "scrolled": false
   },
   "outputs": [
    {
     "name": "stdout",
     "output_type": "stream",
     "text": [
      "tensor([[369.5294, -14.8267,  -6.8495,   0.6988],\n",
      "        [  2.9485,  28.3427,  15.0557,   7.9419],\n",
      "        [ 65.1170,   3.6808,   3.5662,  -1.7547],\n",
      "        [ 24.0104,   4.6191,  -3.7913,  -3.4851]])\n",
      "tensor([[ 2.4010e+01, -3.2754e+01,  1.1079e+01, -5.9447e+00],\n",
      "        [ 6.5117e+01, -1.3193e+01, -5.2441e+00, -2.0483e-02],\n",
      "        [ 2.9485e+00, -6.3925e+00, -1.1462e+01, -4.1304e+00]])\n",
      "tensor([[  0.0000, -21.3226, -13.6673,  -5.6371],\n",
      "        [ 14.4266,  19.7018,   8.3324,  11.5804],\n",
      "        [-87.8295, -15.5971,  -2.4635,   2.5422],\n",
      "        [ 23.0526,  -7.5787,  10.9206,  -3.7702]])\n",
      "tensor([[-23.0526,  13.2578,   5.7579,   7.1211],\n",
      "        [ 87.8295, -26.2204,  -2.2458, -12.1997],\n",
      "        [-14.4266,  45.7873,   1.3944,   6.4017]])\n"
     ]
    }
   ],
   "source": [
    "torch.set_printoptions(profile=\"full\")\n",
    "print(im_rfft[4][0][:4,:4,0])\n",
    "print(im_rfft[4][0][-3:,:4,0])\n",
    "print(im_rfft[4][0][:4,:4,1])\n",
    "print(im_rfft[4][0][-3:,:4,1])\n",
    "torch.set_printoptions(profile=\"default\")"
   ]
  },
  {
   "cell_type": "code",
   "execution_count": 77,
   "metadata": {},
   "outputs": [],
   "source": [
    "im_rfft_small = torch.rfft(im_cpu[:,:,:16,:16], 2, onesided=False)"
   ]
  },
  {
   "cell_type": "code",
   "execution_count": 78,
   "metadata": {},
   "outputs": [
    {
     "data": {
      "text/plain": [
       "torch.Size([16, 3, 16, 16, 2])"
      ]
     },
     "execution_count": 78,
     "metadata": {},
     "output_type": "execute_result"
    }
   ],
   "source": [
    "im_rfft_small.shape"
   ]
  },
  {
   "cell_type": "code",
   "execution_count": 80,
   "metadata": {
    "scrolled": false
   },
   "outputs": [
    {
     "name": "stdout",
     "output_type": "stream",
     "text": [
      "tensor([[ 8.39e+01, -2.24e+00,  1.29e+00, -4.66e-01, -5.10e-02, -8.37e-01, -7.82e-01, -3.91e-01, -3.10e-01, -3.91e-01, -7.82e-01, -8.37e-01, -5.10e-02, -4.66e-01,  1.29e+00, -2.24e+00],\n",
      "        [ 2.06e+01, -1.81e+00,  1.18e+00,  8.53e-01,  6.15e-02, -3.33e-02, -6.14e-01,  2.98e-01, -1.21e-01, -1.83e-01, -4.79e-01, -1.02e+00,  1.25e+00, -2.79e-01, -3.19e-01,  2.15e+00],\n",
      "        [ 1.29e+01,  1.42e+00, -2.06e-01,  1.96e+00, -5.73e-01,  1.12e+00,  4.37e-01,  6.10e-01, -2.34e-01, -2.86e-01, -5.58e-01, -1.31e-01,  1.54e-02, -3.43e-01, -7.14e-01, -3.21e+00],\n",
      "        [ 9.83e+00,  1.36e-01, -4.89e-01,  1.75e-01, -3.85e-01,  8.09e-01,  6.23e-01, -3.00e-01, -3.23e-02, -3.90e-01, -4.49e-01, -3.64e-01, -1.24e+00, -1.89e+00, -4.78e-01, -9.51e-01],\n",
      "        [ 3.93e+00,  5.06e-01, -5.11e-01, -2.63e-01,  1.61e-01, -5.43e-01,  4.83e-01, -2.24e-01,  5.29e-01, -1.73e-01, -4.55e-02, -4.38e-01,  1.76e-01, -1.08e+00, -6.48e-01,  7.73e-02],\n",
      "        [-3.69e-01,  8.78e-01,  8.09e-01,  3.21e-01,  9.44e-02, -1.58e-01,  3.71e-01, -1.89e-03,  1.05e-01,  9.56e-02,  2.71e-01,  5.92e-01, -2.86e-01, -6.31e-01, -1.09e+00, -4.65e-01],\n",
      "        [ 1.42e+00,  7.83e-01,  3.71e-01,  3.80e-01,  7.09e-02,  3.73e-01,  1.82e-01,  6.17e-02, -2.45e-01,  1.81e-01,  6.27e-02,  2.24e-01, -4.07e-01, -6.25e-01, -3.91e-01, -8.19e-01],\n",
      "        [ 6.89e-01,  7.21e-01,  2.02e-02, -6.80e-02,  2.56e-01,  2.22e-01,  2.11e-01,  1.58e-01,  1.27e-01,  1.04e-01,  9.54e-02,  1.25e-01,  2.55e-01,  1.28e-01,  8.85e-02, -2.34e-01],\n",
      "        [-2.75e-02,  2.29e-01,  5.71e-01, -2.19e-02,  1.06e-01,  2.28e-01,  2.05e-01,  1.77e-01,  3.02e-01,  1.77e-01,  2.05e-01,  2.28e-01,  1.06e-01, -2.19e-02,  5.71e-01,  2.29e-01],\n",
      "        [ 6.89e-01, -2.34e-01,  8.85e-02,  1.28e-01,  2.55e-01,  1.25e-01,  9.54e-02,  1.04e-01,  1.27e-01,  1.58e-01,  2.11e-01,  2.22e-01,  2.56e-01, -6.80e-02,  2.02e-02,  7.21e-01],\n",
      "        [ 1.42e+00, -8.19e-01, -3.91e-01, -6.25e-01, -4.07e-01,  2.24e-01,  6.27e-02,  1.81e-01, -2.45e-01,  6.17e-02,  1.82e-01,  3.73e-01,  7.09e-02,  3.80e-01,  3.71e-01,  7.83e-01],\n",
      "        [-3.69e-01, -4.65e-01, -1.09e+00, -6.31e-01, -2.86e-01,  5.92e-01,  2.71e-01,  9.56e-02,  1.05e-01, -1.89e-03,  3.71e-01, -1.58e-01,  9.44e-02,  3.21e-01,  8.09e-01,  8.78e-01],\n",
      "        [ 3.93e+00,  7.73e-02, -6.48e-01, -1.08e+00,  1.76e-01, -4.38e-01, -4.55e-02, -1.73e-01,  5.29e-01, -2.24e-01,  4.83e-01, -5.43e-01,  1.61e-01, -2.63e-01, -5.11e-01,  5.06e-01],\n",
      "        [ 9.83e+00, -9.51e-01, -4.78e-01, -1.89e+00, -1.24e+00, -3.64e-01, -4.49e-01, -3.90e-01, -3.23e-02, -3.00e-01,  6.23e-01,  8.09e-01, -3.85e-01,  1.75e-01, -4.89e-01,  1.36e-01],\n",
      "        [ 1.29e+01, -3.21e+00, -7.14e-01, -3.43e-01,  1.54e-02, -1.31e-01, -5.58e-01, -2.86e-01, -2.34e-01,  6.10e-01,  4.37e-01,  1.12e+00, -5.73e-01,  1.96e+00, -2.06e-01,  1.42e+00],\n",
      "        [ 2.06e+01,  2.15e+00, -3.19e-01, -2.79e-01,  1.25e+00, -1.02e+00, -4.79e-01, -1.83e-01, -1.21e-01,  2.98e-01, -6.14e-01, -3.33e-02,  6.15e-02,  8.53e-01,  1.18e+00, -1.81e+00]])\n",
      "\n",
      "tensor([[ 0.00e+00, -3.44e-01, -3.95e-02, -2.44e+00,  6.43e-01, -2.75e-01, -3.38e-01, -2.86e-01,  0.00e+00,  2.86e-01,  3.38e-01,  2.75e-01, -6.43e-01,  2.44e+00,  3.95e-02,  3.44e-01],\n",
      "        [-7.09e+00, -3.19e+00, -5.34e-01, -3.08e+00,  4.54e-01, -1.29e+00, -7.34e-01, -5.81e-01, -3.05e-01, -2.54e-01, -2.71e-01, -6.66e-01,  4.11e-02,  2.44e-01,  1.26e+00, -8.84e-01],\n",
      "        [-6.02e+00, -1.23e+00, -6.41e-01,  2.33e-01, -4.33e-01, -5.26e-01, -1.07e+00,  2.14e-01, -2.16e-01, -9.93e-02, -2.70e-01, -2.15e-01,  4.70e-01,  3.26e-01,  3.94e-01,  6.73e-02],\n",
      "        [-4.30e+00, -3.71e-01,  4.68e-02,  1.23e+00, -3.84e-01,  9.35e-01, -2.63e-01,  3.96e-01, -1.38e-01, -9.82e-02,  6.21e-03,  2.03e-02, -2.11e-01, -1.37e+00, -1.27e+00, -7.91e-02],\n",
      "        [-8.24e-01,  3.24e-01, -7.71e-01,  5.95e-01, -1.18e-01,  5.42e-01,  2.75e-01, -1.90e-01, -7.84e-03, -4.90e-02, -1.39e-01, -2.20e-01, -5.41e-01, -6.45e-01, -6.67e-01, -7.65e-01],\n",
      "        [-1.89e+00,  1.04e+00,  5.93e-02,  5.50e-01,  2.36e-01, -4.53e-01,  1.53e-01, -1.91e-01,  2.50e-01, -9.78e-02, -4.37e-01, -6.87e-02,  4.39e-02, -1.58e-01,  4.02e-01,  1.41e-01],\n",
      "        [-9.17e-01,  1.23e+00,  1.26e+00,  1.00e+00, -1.26e-01, -1.56e-01,  1.75e-01, -1.14e-01, -1.06e-01, -1.65e-01, -2.49e-01, -1.37e-01, -8.81e-02, -6.13e-01,  2.48e-01, -8.39e-01],\n",
      "        [ 1.06e+00,  6.02e-01,  2.88e-01,  6.34e-01,  1.24e-01,  2.74e-02,  4.03e-02, -9.23e-02, -2.94e-01, -1.19e-01, -2.69e-01, -1.52e-01, -1.04e-01, -3.14e-01, -3.16e-01, -5.42e-01],\n",
      "        [ 0.00e+00,  5.43e-01,  4.69e-01,  1.24e-01, -3.14e-02,  1.95e-02,  2.18e-01,  9.35e-02,  0.00e+00, -9.35e-02, -2.18e-01, -1.95e-02,  3.14e-02, -1.24e-01, -4.69e-01, -5.43e-01],\n",
      "        [-1.06e+00,  5.42e-01,  3.16e-01,  3.14e-01,  1.04e-01,  1.52e-01,  2.69e-01,  1.19e-01,  2.94e-01,  9.23e-02, -4.03e-02, -2.74e-02, -1.24e-01, -6.34e-01, -2.88e-01, -6.02e-01],\n",
      "        [ 9.17e-01,  8.39e-01, -2.48e-01,  6.13e-01,  8.81e-02,  1.37e-01,  2.49e-01,  1.65e-01,  1.06e-01,  1.14e-01, -1.75e-01,  1.56e-01,  1.26e-01, -1.00e+00, -1.26e+00, -1.23e+00],\n",
      "        [ 1.89e+00, -1.41e-01, -4.02e-01,  1.58e-01, -4.39e-02,  6.87e-02,  4.37e-01,  9.78e-02, -2.50e-01,  1.91e-01, -1.53e-01,  4.53e-01, -2.36e-01, -5.50e-01, -5.93e-02, -1.04e+00],\n",
      "        [ 8.24e-01,  7.65e-01,  6.67e-01,  6.45e-01,  5.41e-01,  2.20e-01,  1.39e-01,  4.90e-02,  7.84e-03,  1.90e-01, -2.75e-01, -5.42e-01,  1.18e-01, -5.95e-01,  7.71e-01, -3.24e-01],\n",
      "        [ 4.30e+00,  7.91e-02,  1.27e+00,  1.37e+00,  2.11e-01, -2.03e-02, -6.21e-03,  9.82e-02,  1.38e-01, -3.96e-01,  2.63e-01, -9.35e-01,  3.84e-01, -1.23e+00, -4.68e-02,  3.71e-01],\n",
      "        [ 6.02e+00, -6.73e-02, -3.94e-01, -3.26e-01, -4.70e-01,  2.15e-01,  2.70e-01,  9.93e-02,  2.16e-01, -2.14e-01,  1.07e+00,  5.26e-01,  4.33e-01, -2.33e-01,  6.41e-01,  1.23e+00],\n",
      "        [ 7.09e+00,  8.84e-01, -1.26e+00, -2.44e-01, -4.11e-02,  6.66e-01,  2.71e-01,  2.54e-01,  3.05e-01,  5.81e-01,  7.34e-01,  1.29e+00, -4.54e-01,  3.08e+00,  5.34e-01,  3.19e+00]])\n"
     ]
    }
   ],
   "source": [
    "torch.set_printoptions(precision=2, profile=\"full\", linewidth=250)\n",
    "print(im_rfft_small[4][0][:,:,0])\n",
    "print()\n",
    "print(im_rfft_small[4][0][:,:,1])\n",
    "torch.set_printoptions(profile=\"default\")"
   ]
  },
  {
   "cell_type": "code",
   "execution_count": 83,
   "metadata": {},
   "outputs": [
    {
     "name": "stdout",
     "output_type": "stream",
     "text": [
      "tensor([[ 3.02e-01,  1.77e-01,  2.05e-01,  2.28e-01,  1.06e-01, -2.19e-02,  5.71e-01,  2.29e-01, -2.75e-02,  2.29e-01,  5.71e-01, -2.19e-02,  1.06e-01,  2.28e-01,  2.05e-01,  1.77e-01],\n",
      "        [ 1.27e-01,  1.58e-01,  2.11e-01,  2.22e-01,  2.56e-01, -6.80e-02,  2.02e-02,  7.21e-01,  6.89e-01, -2.34e-01,  8.85e-02,  1.28e-01,  2.55e-01,  1.25e-01,  9.54e-02,  1.04e-01],\n",
      "        [-2.45e-01,  6.17e-02,  1.82e-01,  3.73e-01,  7.09e-02,  3.80e-01,  3.71e-01,  7.83e-01,  1.42e+00, -8.19e-01, -3.91e-01, -6.25e-01, -4.07e-01,  2.24e-01,  6.27e-02,  1.81e-01],\n",
      "        [ 1.05e-01, -1.89e-03,  3.71e-01, -1.58e-01,  9.44e-02,  3.21e-01,  8.09e-01,  8.78e-01, -3.69e-01, -4.65e-01, -1.09e+00, -6.31e-01, -2.86e-01,  5.92e-01,  2.71e-01,  9.56e-02],\n",
      "        [ 5.29e-01, -2.24e-01,  4.83e-01, -5.43e-01,  1.61e-01, -2.63e-01, -5.11e-01,  5.06e-01,  3.93e+00,  7.73e-02, -6.48e-01, -1.08e+00,  1.76e-01, -4.38e-01, -4.55e-02, -1.73e-01],\n",
      "        [-3.23e-02, -3.00e-01,  6.23e-01,  8.09e-01, -3.85e-01,  1.75e-01, -4.89e-01,  1.36e-01,  9.83e+00, -9.51e-01, -4.78e-01, -1.89e+00, -1.24e+00, -3.64e-01, -4.49e-01, -3.90e-01],\n",
      "        [-2.34e-01,  6.10e-01,  4.37e-01,  1.12e+00, -5.73e-01,  1.96e+00, -2.06e-01,  1.42e+00,  1.29e+01, -3.21e+00, -7.14e-01, -3.43e-01,  1.54e-02, -1.31e-01, -5.58e-01, -2.86e-01],\n",
      "        [-1.21e-01,  2.98e-01, -6.14e-01, -3.33e-02,  6.15e-02,  8.53e-01,  1.18e+00, -1.81e+00,  2.06e+01,  2.15e+00, -3.19e-01, -2.79e-01,  1.25e+00, -1.02e+00, -4.79e-01, -1.83e-01],\n",
      "        [-3.10e-01, -3.91e-01, -7.82e-01, -8.37e-01, -5.10e-02, -4.66e-01,  1.29e+00, -2.24e+00,  8.39e+01, -2.24e+00,  1.29e+00, -4.66e-01, -5.10e-02, -8.37e-01, -7.82e-01, -3.91e-01],\n",
      "        [-1.21e-01, -1.83e-01, -4.79e-01, -1.02e+00,  1.25e+00, -2.79e-01, -3.19e-01,  2.15e+00,  2.06e+01, -1.81e+00,  1.18e+00,  8.53e-01,  6.15e-02, -3.33e-02, -6.14e-01,  2.98e-01],\n",
      "        [-2.34e-01, -2.86e-01, -5.58e-01, -1.31e-01,  1.54e-02, -3.43e-01, -7.14e-01, -3.21e+00,  1.29e+01,  1.42e+00, -2.06e-01,  1.96e+00, -5.73e-01,  1.12e+00,  4.37e-01,  6.10e-01],\n",
      "        [-3.23e-02, -3.90e-01, -4.49e-01, -3.64e-01, -1.24e+00, -1.89e+00, -4.78e-01, -9.51e-01,  9.83e+00,  1.36e-01, -4.89e-01,  1.75e-01, -3.85e-01,  8.09e-01,  6.23e-01, -3.00e-01],\n",
      "        [ 5.29e-01, -1.73e-01, -4.55e-02, -4.38e-01,  1.76e-01, -1.08e+00, -6.48e-01,  7.73e-02,  3.93e+00,  5.06e-01, -5.11e-01, -2.63e-01,  1.61e-01, -5.43e-01,  4.83e-01, -2.24e-01],\n",
      "        [ 1.05e-01,  9.56e-02,  2.71e-01,  5.92e-01, -2.86e-01, -6.31e-01, -1.09e+00, -4.65e-01, -3.69e-01,  8.78e-01,  8.09e-01,  3.21e-01,  9.44e-02, -1.58e-01,  3.71e-01, -1.89e-03],\n",
      "        [-2.45e-01,  1.81e-01,  6.27e-02,  2.24e-01, -4.07e-01, -6.25e-01, -3.91e-01, -8.19e-01,  1.42e+00,  7.83e-01,  3.71e-01,  3.80e-01,  7.09e-02,  3.73e-01,  1.82e-01,  6.17e-02],\n",
      "        [ 1.27e-01,  1.04e-01,  9.54e-02,  1.25e-01,  2.55e-01,  1.28e-01,  8.85e-02, -2.34e-01,  6.89e-01,  7.21e-01,  2.02e-02, -6.80e-02,  2.56e-01,  2.22e-01,  2.11e-01,  1.58e-01]])\n"
     ]
    },
    {
     "data": {
      "image/png": "[encoded data removed]",
      "text/plain": [
       "<Figure size 432x288 with 1 Axes>"
      ]
     },
     "metadata": {
      "needs_background": "light"
     },
     "output_type": "display_data"
    },
    {
     "name": "stdout",
     "output_type": "stream",
     "text": [
      "tensor([[ 0.00e+00, -9.35e-02, -2.18e-01, -1.95e-02,  3.14e-02, -1.24e-01, -4.69e-01, -5.43e-01,  0.00e+00,  5.43e-01,  4.69e-01,  1.24e-01, -3.14e-02,  1.95e-02,  2.18e-01,  9.35e-02],\n",
      "        [ 2.94e-01,  9.23e-02, -4.03e-02, -2.74e-02, -1.24e-01, -6.34e-01, -2.88e-01, -6.02e-01, -1.06e+00,  5.42e-01,  3.16e-01,  3.14e-01,  1.04e-01,  1.52e-01,  2.69e-01,  1.19e-01],\n",
      "        [ 1.06e-01,  1.14e-01, -1.75e-01,  1.56e-01,  1.26e-01, -1.00e+00, -1.26e+00, -1.23e+00,  9.17e-01,  8.39e-01, -2.48e-01,  6.13e-01,  8.81e-02,  1.37e-01,  2.49e-01,  1.65e-01],\n",
      "        [-2.50e-01,  1.91e-01, -1.53e-01,  4.53e-01, -2.36e-01, -5.50e-01, -5.93e-02, -1.04e+00,  1.89e+00, -1.41e-01, -4.02e-01,  1.58e-01, -4.39e-02,  6.87e-02,  4.37e-01,  9.78e-02],\n",
      "        [ 7.84e-03,  1.90e-01, -2.75e-01, -5.42e-01,  1.18e-01, -5.95e-01,  7.71e-01, -3.24e-01,  8.24e-01,  7.65e-01,  6.67e-01,  6.45e-01,  5.41e-01,  2.20e-01,  1.39e-01,  4.90e-02],\n",
      "        [ 1.38e-01, -3.96e-01,  2.63e-01, -9.35e-01,  3.84e-01, -1.23e+00, -4.68e-02,  3.71e-01,  4.30e+00,  7.91e-02,  1.27e+00,  1.37e+00,  2.11e-01, -2.03e-02, -6.21e-03,  9.82e-02],\n",
      "        [ 2.16e-01, -2.14e-01,  1.07e+00,  5.26e-01,  4.33e-01, -2.33e-01,  6.41e-01,  1.23e+00,  6.02e+00, -6.73e-02, -3.94e-01, -3.26e-01, -4.70e-01,  2.15e-01,  2.70e-01,  9.93e-02],\n",
      "        [ 3.05e-01,  5.81e-01,  7.34e-01,  1.29e+00, -4.54e-01,  3.08e+00,  5.34e-01,  3.19e+00,  7.09e+00,  8.84e-01, -1.26e+00, -2.44e-01, -4.11e-02,  6.66e-01,  2.71e-01,  2.54e-01],\n",
      "        [ 0.00e+00,  2.86e-01,  3.38e-01,  2.75e-01, -6.43e-01,  2.44e+00,  3.95e-02,  3.44e-01,  0.00e+00, -3.44e-01, -3.95e-02, -2.44e+00,  6.43e-01, -2.75e-01, -3.38e-01, -2.86e-01],\n",
      "        [-3.05e-01, -2.54e-01, -2.71e-01, -6.66e-01,  4.11e-02,  2.44e-01,  1.26e+00, -8.84e-01, -7.09e+00, -3.19e+00, -5.34e-01, -3.08e+00,  4.54e-01, -1.29e+00, -7.34e-01, -5.81e-01],\n",
      "        [-2.16e-01, -9.93e-02, -2.70e-01, -2.15e-01,  4.70e-01,  3.26e-01,  3.94e-01,  6.73e-02, -6.02e+00, -1.23e+00, -6.41e-01,  2.33e-01, -4.33e-01, -5.26e-01, -1.07e+00,  2.14e-01],\n",
      "        [-1.38e-01, -9.82e-02,  6.21e-03,  2.03e-02, -2.11e-01, -1.37e+00, -1.27e+00, -7.91e-02, -4.30e+00, -3.71e-01,  4.68e-02,  1.23e+00, -3.84e-01,  9.35e-01, -2.63e-01,  3.96e-01],\n",
      "        [-7.84e-03, -4.90e-02, -1.39e-01, -2.20e-01, -5.41e-01, -6.45e-01, -6.67e-01, -7.65e-01, -8.24e-01,  3.24e-01, -7.71e-01,  5.95e-01, -1.18e-01,  5.42e-01,  2.75e-01, -1.90e-01],\n",
      "        [ 2.50e-01, -9.78e-02, -4.37e-01, -6.87e-02,  4.39e-02, -1.58e-01,  4.02e-01,  1.41e-01, -1.89e+00,  1.04e+00,  5.93e-02,  5.50e-01,  2.36e-01, -4.53e-01,  1.53e-01, -1.91e-01],\n",
      "        [-1.06e-01, -1.65e-01, -2.49e-01, -1.37e-01, -8.81e-02, -6.13e-01,  2.48e-01, -8.39e-01, -9.17e-01,  1.23e+00,  1.26e+00,  1.00e+00, -1.26e-01, -1.56e-01,  1.75e-01, -1.14e-01],\n",
      "        [-2.94e-01, -1.19e-01, -2.69e-01, -1.52e-01, -1.04e-01, -3.14e-01, -3.16e-01, -5.42e-01,  1.06e+00,  6.02e-01,  2.88e-01,  6.34e-01,  1.24e-01,  2.74e-02,  4.03e-02, -9.23e-02]])\n"
     ]
    },
    {
     "data": {
      "image/png": "[encoded data removed]",
      "text/plain": [
       "<Figure size 432x288 with 1 Axes>"
      ]
     },
     "metadata": {
      "needs_background": "light"
     },
     "output_type": "display_data"
    }
   ],
   "source": [
    "n = im_rfft_small.shape[2] // 2\n",
    "im_rfft_small_shifted = torch.cat((im_rfft_small[:,:,n:,:,:], im_rfft_small[:,:,:n,:,:]), dim=-3)\n",
    "im_rfft_small_shifted = torch.cat((im_rfft_small_shifted[:,:,:,n:,:], im_rfft_small_shifted[:,:,:,:n,:]), dim=-2)\n",
    "torch.set_printoptions(precision=2, profile=\"full\", linewidth=250)\n",
    "print(im_rfft_small_shifted[4][0][:,:,0])\n",
    "plt.imshow(im_rfft_small_shifted[4][0][:,:,0])\n",
    "plt.show()\n",
    "print(im_rfft_small_shifted[4][0][:,:,1])\n",
    "plt.imshow(im_rfft_small_shifted[4][0][:,:,1])\n",
    "plt.show()\n",
    "torch.set_printoptions(profile=\"default\")"
   ]
  },
  {
   "cell_type": "code",
   "execution_count": 91,
   "metadata": {},
   "outputs": [
    {
     "data": {
      "text/plain": [
       "<matplotlib.image.AxesImage at 0x7efcdabf7cf8>"
      ]
     },
     "execution_count": 91,
     "metadata": {},
     "output_type": "execute_result"
    },
    {
     "data": {
      "image/png": "[encoded data removed]",
      "text/plain": [
       "<Figure size 432x288 with 1 Axes>"
      ]
     },
     "metadata": {
      "needs_background": "light"
     },
     "output_type": "display_data"
    }
   ],
   "source": [
    "plt.imshow(transforms.ToPILImage()(im_cpu[4,:,:16,:16]))"
   ]
  },
  {
   "cell_type": "code",
   "execution_count": 92,
   "metadata": {},
   "outputs": [],
   "source": [
    "im = transforms.ToPILImage()(im_cpu[4,:,:16,:16])"
   ]
  },
  {
   "cell_type": "code",
   "execution_count": 94,
   "metadata": {},
   "outputs": [],
   "source": [
    "im_smaller = im.resize((15, 15), resample=PIL.Image.LANCZOS)"
   ]
  },
  {
   "cell_type": "code",
   "execution_count": 95,
   "metadata": {},
   "outputs": [],
   "source": [
    "im_rfft_smaller = torch.rfft(transforms.ToTensor()(im_smaller), 2, onesided=False)"
   ]
  },
  {
   "cell_type": "code",
   "execution_count": 106,
   "metadata": {},
   "outputs": [
    {
     "name": "stdout",
     "output_type": "stream",
     "text": [
      "tensor([[ 1.93e-01,  1.69e-01,  2.14e-01,  1.65e-01, -1.04e-01,  2.00e-01,  4.72e-01,  3.76e-01, -3.11e-02,  2.36e-01,  4.03e-02,  1.80e-01,  1.59e-01,  1.08e-01,  1.40e-01],\n",
      "        [ 1.83e-02,  1.26e-01,  3.15e-01,  9.24e-02,  1.73e-01,  1.81e-01,  6.34e-01,  1.21e+00, -6.11e-01, -2.75e-01, -4.18e-01, -2.44e-01,  1.75e-01,  8.10e-02,  5.48e-02],\n",
      "        [ 5.12e-02,  2.79e-01, -5.69e-02,  3.86e-02,  2.45e-01,  7.01e-01,  7.17e-01, -1.75e-01, -4.46e-01, -9.31e-01, -5.66e-01, -2.59e-01,  4.96e-01,  2.06e-01,  5.01e-02],\n",
      "        [ 4.32e-02,  3.14e-01, -4.70e-01,  1.58e-01, -3.13e-01, -4.01e-01,  4.57e-01,  3.47e+00,  9.17e-02, -5.62e-01, -9.65e-01,  1.74e-01, -3.71e-01, -6.18e-02,  1.04e-01],\n",
      "        [-2.25e-01,  4.41e-01,  6.36e-01, -3.39e-01,  7.37e-02, -4.25e-01,  1.61e-01,  8.82e+00, -8.46e-01, -4.02e-01, -1.69e+00, -1.14e+00, -3.13e-01, -3.75e-01, -2.34e-01],\n",
      "        [ 2.19e-01,  4.62e-01,  1.01e+00, -4.84e-01,  1.74e+00, -1.83e-01,  1.31e+00,  1.15e+01, -2.81e+00, -6.17e-01, -2.94e-01,  3.84e-02, -1.28e-01, -4.41e-01, -2.13e-01],\n",
      "        [ 1.41e-01, -4.02e-01,  2.48e-02,  2.74e-02,  9.30e-01,  1.08e+00, -1.50e+00,  1.83e+01,  1.88e+00, -2.52e-01, -2.78e-01,  1.13e+00, -8.70e-01, -3.79e-01, -1.32e-01],\n",
      "        [-3.13e-01, -6.34e-01, -7.33e-01, -6.45e-02, -3.13e-01,  1.16e+00, -1.97e+00,  7.39e+01, -1.97e+00,  1.16e+00, -3.13e-01, -6.45e-02, -7.33e-01, -6.34e-01, -3.13e-01],\n",
      "        [-1.32e-01, -3.79e-01, -8.70e-01,  1.13e+00, -2.78e-01, -2.52e-01,  1.88e+00,  1.83e+01, -1.50e+00,  1.08e+00,  9.30e-01,  2.74e-02,  2.48e-02, -4.02e-01,  1.41e-01],\n",
      "        [-2.13e-01, -4.41e-01, -1.28e-01,  3.84e-02, -2.94e-01, -6.17e-01, -2.81e+00,  1.15e+01,  1.31e+00, -1.83e-01,  1.74e+00, -4.84e-01,  1.01e+00,  4.62e-01,  2.19e-01],\n",
      "        [-2.34e-01, -3.75e-01, -3.13e-01, -1.14e+00, -1.69e+00, -4.02e-01, -8.46e-01,  8.82e+00,  1.61e-01, -4.25e-01,  7.37e-02, -3.39e-01,  6.36e-01,  4.41e-01, -2.25e-01],\n",
      "        [ 1.04e-01, -6.18e-02, -3.71e-01,  1.74e-01, -9.65e-01, -5.62e-01,  9.17e-02,  3.47e+00,  4.57e-01, -4.01e-01, -3.13e-01,  1.58e-01, -4.70e-01,  3.14e-01,  4.32e-02],\n",
      "        [ 5.01e-02,  2.06e-01,  4.96e-01, -2.59e-01, -5.66e-01, -9.31e-01, -4.46e-01, -1.75e-01,  7.17e-01,  7.01e-01,  2.45e-01,  3.86e-02, -5.69e-02,  2.79e-01,  5.12e-02],\n",
      "        [ 5.48e-02,  8.10e-02,  1.75e-01, -2.44e-01, -4.18e-01, -2.75e-01, -6.11e-01,  1.21e+00,  6.34e-01,  1.81e-01,  1.73e-01,  9.24e-02,  3.15e-01,  1.26e-01,  1.83e-02],\n",
      "        [ 1.40e-01,  1.08e-01,  1.59e-01,  1.80e-01,  4.03e-02,  2.36e-01, -3.11e-02,  3.76e-01,  4.72e-01,  2.00e-01, -1.04e-01,  1.65e-01,  2.14e-01,  1.69e-01,  1.93e-01]])\n"
     ]
    },
    {
     "data": {
      "image/png": "[encoded data removed]",
      "text/plain": [
       "<Figure size 432x288 with 1 Axes>"
      ]
     },
     "metadata": {
      "needs_background": "light"
     },
     "output_type": "display_data"
    },
    {
     "name": "stdout",
     "output_type": "stream",
     "text": [
      "tensor([[ 1.01e-01, -9.26e-02, -4.62e-02, -6.49e-02, -3.99e-01, -3.16e-01, -5.85e-01, -5.76e-01,  5.39e-01,  3.60e-01,  2.24e-01,  4.62e-03,  7.91e-02,  2.23e-01,  1.13e-01],\n",
      "        [ 7.20e-02, -9.15e-02,  7.81e-02,  7.31e-02, -8.94e-01, -9.73e-01, -1.07e+00,  4.80e-01,  7.68e-01, -1.05e-01,  5.19e-01,  9.60e-02,  1.48e-01,  2.21e-01,  1.50e-01],\n",
      "        [ 3.44e-02, -1.35e-01,  3.91e-01, -2.03e-01, -5.62e-01, -1.71e-01, -1.03e+00,  1.70e+00, -2.40e-02, -3.04e-01,  1.63e-01, -3.59e-02,  7.81e-02,  3.44e-01, -4.04e-02],\n",
      "        [ 1.21e-01, -2.11e-01, -4.24e-01,  7.17e-02, -5.07e-01,  6.98e-01, -3.25e-01,  5.65e-01,  6.91e-01,  6.09e-01,  5.86e-01,  4.69e-01,  1.90e-01,  1.13e-01, -7.86e-03],\n",
      "        [-1.49e-01,  3.98e-02, -8.25e-01,  3.66e-01, -1.12e+00, -1.56e-02,  3.04e-01,  3.45e+00,  9.03e-02,  1.13e+00,  1.21e+00,  1.40e-01, -2.60e-02,  2.15e-02,  4.76e-02],\n",
      "        [-8.44e-02,  7.33e-01,  3.99e-01,  4.07e-01, -3.24e-01,  5.59e-01,  1.04e+00,  4.99e+00, -3.51e-02, -3.53e-01, -3.40e-01, -4.66e-01,  1.95e-01,  2.09e-01,  1.33e-01],\n",
      "        [ 4.39e-01,  6.33e-01,  1.12e+00, -4.28e-01,  2.71e+00,  4.13e-01,  2.85e+00,  6.06e+00,  7.56e-01, -1.12e+00, -2.17e-01,  2.64e-02,  5.38e-01,  2.20e-01,  2.47e-01],\n",
      "        [ 1.60e-01,  2.93e-01,  2.58e-01, -5.62e-01,  2.20e+00, -4.18e-03,  3.16e-01,  0.00e+00, -3.16e-01,  4.18e-03, -2.20e+00,  5.62e-01, -2.58e-01, -2.93e-01, -1.60e-01],\n",
      "        [-2.47e-01, -2.20e-01, -5.38e-01, -2.64e-02,  2.17e-01,  1.12e+00, -7.56e-01, -6.06e+00, -2.85e+00, -4.13e-01, -2.71e+00,  4.28e-01, -1.12e+00, -6.33e-01, -4.39e-01],\n",
      "        [-1.33e-01, -2.09e-01, -1.95e-01,  4.66e-01,  3.40e-01,  3.53e-01,  3.51e-02, -4.99e+00, -1.04e+00, -5.59e-01,  3.24e-01, -4.07e-01, -3.99e-01, -7.33e-01,  8.44e-02],\n",
      "        [-4.76e-02, -2.15e-02,  2.60e-02, -1.40e-01, -1.21e+00, -1.13e+00, -9.03e-02, -3.45e+00, -3.04e-01,  1.56e-02,  1.12e+00, -3.66e-01,  8.25e-01, -3.98e-02,  1.49e-01],\n",
      "        [ 7.86e-03, -1.13e-01, -1.90e-01, -4.69e-01, -5.86e-01, -6.09e-01, -6.91e-01, -5.65e-01,  3.25e-01, -6.98e-01,  5.07e-01, -7.17e-02,  4.24e-01,  2.11e-01, -1.21e-01],\n",
      "        [ 4.04e-02, -3.44e-01, -7.81e-02,  3.59e-02, -1.63e-01,  3.04e-01,  2.40e-02, -1.70e+00,  1.03e+00,  1.71e-01,  5.62e-01,  2.03e-01, -3.91e-01,  1.35e-01, -3.44e-02],\n",
      "        [-1.50e-01, -2.21e-01, -1.48e-01, -9.60e-02, -5.19e-01,  1.05e-01, -7.68e-01, -4.80e-01,  1.07e+00,  9.73e-01,  8.94e-01, -7.31e-02, -7.81e-02,  9.15e-02, -7.20e-02],\n",
      "        [-1.13e-01, -2.23e-01, -7.91e-02, -4.62e-03, -2.24e-01, -3.60e-01, -5.39e-01,  5.76e-01,  5.85e-01,  3.16e-01,  3.99e-01,  6.49e-02,  4.62e-02,  9.26e-02, -1.01e-01]])\n"
     ]
    },
    {
     "data": {
      "image/png": "[encoded data removed]",
      "text/plain": [
       "<Figure size 432x288 with 1 Axes>"
      ]
     },
     "metadata": {
      "needs_background": "light"
     },
     "output_type": "display_data"
    }
   ],
   "source": [
    "n = im_rfft_smaller.shape[2] // 2 + 1\n",
    "im_rfft_smaller_shifted = torch.cat((im_rfft_smaller[:,n:,:,:], im_rfft_smaller[:,:n,:,:]), dim=-3)\n",
    "im_rfft_smaller_shifted = torch.cat((im_rfft_smaller_shifted[:,:,n:,:], im_rfft_smaller_shifted[:,:,:n,:]), dim=-2)\n",
    "torch.set_printoptions(precision=2, profile=\"full\", linewidth=250)\n",
    "print(im_rfft_smaller_shifted[0][:,:,0])\n",
    "plt.imshow(im_rfft_smaller_shifted[0][:,:,0])\n",
    "plt.show()\n",
    "print(im_rfft_smaller_shifted[0][:,:,1])\n",
    "plt.imshow(im_rfft_smaller_shifted[0][:,:,1])\n",
    "plt.show()\n",
    "torch.set_printoptions(profile=\"default\")"
   ]
  },
  {
   "cell_type": "code",
   "execution_count": 99,
   "metadata": {},
   "outputs": [
    {
     "data": {
      "image/png": "[encoded data removed]",
      "text/plain": [
       "<Figure size 432x288 with 1 Axes>"
      ]
     },
     "metadata": {
      "needs_background": "light"
     },
     "output_type": "display_data"
    },
    {
     "data": {
      "image/png": "[encoded data removed]",
      "text/plain": [
       "<Figure size 432x288 with 1 Axes>"
      ]
     },
     "metadata": {
      "needs_background": "light"
     },
     "output_type": "display_data"
    }
   ],
   "source": [
    "plt.imshow(im_smaller)\n",
    "plt.show()\n",
    "plt.imshow(im)\n",
    "plt.show()"
   ]
  },
  {
   "cell_type": "code",
   "execution_count": 107,
   "metadata": {},
   "outputs": [
    {
     "name": "stdout",
     "output_type": "stream",
     "text": [
      "tensor([[ 0.00e+00, -9.35e-02, -2.18e-01, -1.95e-02,  3.14e-02, -1.24e-01, -4.69e-01, -5.43e-01,  0.00e+00,  5.43e-01,  4.69e-01,  1.24e-01, -3.14e-02,  1.95e-02,  2.18e-01,  9.35e-02],\n",
      "        [ 2.94e-01,  9.23e-02, -4.03e-02, -2.74e-02, -1.24e-01, -6.34e-01, -2.88e-01, -6.02e-01, -1.06e+00,  5.42e-01,  3.16e-01,  3.14e-01,  1.04e-01,  1.52e-01,  2.69e-01,  1.19e-01],\n",
      "        [ 1.06e-01,  1.14e-01, -1.75e-01,  1.56e-01,  1.26e-01, -1.00e+00, -1.26e+00, -1.23e+00,  9.17e-01,  8.39e-01, -2.48e-01,  6.13e-01,  8.81e-02,  1.37e-01,  2.49e-01,  1.65e-01],\n",
      "        [-2.50e-01,  1.91e-01, -1.53e-01,  4.53e-01, -2.36e-01, -5.50e-01, -5.93e-02, -1.04e+00,  1.89e+00, -1.41e-01, -4.02e-01,  1.58e-01, -4.39e-02,  6.87e-02,  4.37e-01,  9.78e-02],\n",
      "        [ 7.84e-03,  1.90e-01, -2.75e-01, -5.42e-01,  1.18e-01, -5.95e-01,  7.71e-01, -3.24e-01,  8.24e-01,  7.65e-01,  6.67e-01,  6.45e-01,  5.41e-01,  2.20e-01,  1.39e-01,  4.90e-02],\n",
      "        [ 1.38e-01, -3.96e-01,  2.63e-01, -9.35e-01,  3.84e-01, -1.23e+00, -4.68e-02,  3.71e-01,  4.30e+00,  7.91e-02,  1.27e+00,  1.37e+00,  2.11e-01, -2.03e-02, -6.21e-03,  9.82e-02],\n",
      "        [ 2.16e-01, -2.14e-01,  1.07e+00,  5.26e-01,  4.33e-01, -2.33e-01,  6.41e-01,  1.23e+00,  6.02e+00, -6.73e-02, -3.94e-01, -3.26e-01, -4.70e-01,  2.15e-01,  2.70e-01,  9.93e-02],\n",
      "        [ 3.05e-01,  5.81e-01,  7.34e-01,  1.29e+00, -4.54e-01,  3.08e+00,  5.34e-01,  3.19e+00,  7.09e+00,  8.84e-01, -1.26e+00, -2.44e-01, -4.11e-02,  6.66e-01,  2.71e-01,  2.54e-01],\n",
      "        [ 0.00e+00,  2.86e-01,  3.38e-01,  2.75e-01, -6.43e-01,  2.44e+00,  3.95e-02,  3.44e-01,  0.00e+00, -3.44e-01, -3.95e-02, -2.44e+00,  6.43e-01, -2.75e-01, -3.38e-01, -2.86e-01],\n",
      "        [-3.05e-01, -2.54e-01, -2.71e-01, -6.66e-01,  4.11e-02,  2.44e-01,  1.26e+00, -8.84e-01, -7.09e+00, -3.19e+00, -5.34e-01, -3.08e+00,  4.54e-01, -1.29e+00, -7.34e-01, -5.81e-01],\n",
      "        [-2.16e-01, -9.93e-02, -2.70e-01, -2.15e-01,  4.70e-01,  3.26e-01,  3.94e-01,  6.73e-02, -6.02e+00, -1.23e+00, -6.41e-01,  2.33e-01, -4.33e-01, -5.26e-01, -1.07e+00,  2.14e-01],\n",
      "        [-1.38e-01, -9.82e-02,  6.21e-03,  2.03e-02, -2.11e-01, -1.37e+00, -1.27e+00, -7.91e-02, -4.30e+00, -3.71e-01,  4.68e-02,  1.23e+00, -3.84e-01,  9.35e-01, -2.63e-01,  3.96e-01],\n",
      "        [-7.84e-03, -4.90e-02, -1.39e-01, -2.20e-01, -5.41e-01, -6.45e-01, -6.67e-01, -7.65e-01, -8.24e-01,  3.24e-01, -7.71e-01,  5.95e-01, -1.18e-01,  5.42e-01,  2.75e-01, -1.90e-01],\n",
      "        [ 2.50e-01, -9.78e-02, -4.37e-01, -6.87e-02,  4.39e-02, -1.58e-01,  4.02e-01,  1.41e-01, -1.89e+00,  1.04e+00,  5.93e-02,  5.50e-01,  2.36e-01, -4.53e-01,  1.53e-01, -1.91e-01],\n",
      "        [-1.06e-01, -1.65e-01, -2.49e-01, -1.37e-01, -8.81e-02, -6.13e-01,  2.48e-01, -8.39e-01, -9.17e-01,  1.23e+00,  1.26e+00,  1.00e+00, -1.26e-01, -1.56e-01,  1.75e-01, -1.14e-01],\n",
      "        [-2.94e-01, -1.19e-01, -2.69e-01, -1.52e-01, -1.04e-01, -3.14e-01, -3.16e-01, -5.42e-01,  1.06e+00,  6.02e-01,  2.88e-01,  6.34e-01,  1.24e-01,  2.74e-02,  4.03e-02, -9.23e-02]])\n",
      "\n",
      "tensor([[ 1.01e-01, -9.26e-02, -4.62e-02, -6.49e-02, -3.99e-01, -3.16e-01, -5.85e-01, -5.76e-01,  5.39e-01,  3.60e-01,  2.24e-01,  4.62e-03,  7.91e-02,  2.23e-01,  1.13e-01],\n",
      "        [ 7.20e-02, -9.15e-02,  7.81e-02,  7.31e-02, -8.94e-01, -9.73e-01, -1.07e+00,  4.80e-01,  7.68e-01, -1.05e-01,  5.19e-01,  9.60e-02,  1.48e-01,  2.21e-01,  1.50e-01],\n",
      "        [ 3.44e-02, -1.35e-01,  3.91e-01, -2.03e-01, -5.62e-01, -1.71e-01, -1.03e+00,  1.70e+00, -2.40e-02, -3.04e-01,  1.63e-01, -3.59e-02,  7.81e-02,  3.44e-01, -4.04e-02],\n",
      "        [ 1.21e-01, -2.11e-01, -4.24e-01,  7.17e-02, -5.07e-01,  6.98e-01, -3.25e-01,  5.65e-01,  6.91e-01,  6.09e-01,  5.86e-01,  4.69e-01,  1.90e-01,  1.13e-01, -7.86e-03],\n",
      "        [-1.49e-01,  3.98e-02, -8.25e-01,  3.66e-01, -1.12e+00, -1.56e-02,  3.04e-01,  3.45e+00,  9.03e-02,  1.13e+00,  1.21e+00,  1.40e-01, -2.60e-02,  2.15e-02,  4.76e-02],\n",
      "        [-8.44e-02,  7.33e-01,  3.99e-01,  4.07e-01, -3.24e-01,  5.59e-01,  1.04e+00,  4.99e+00, -3.51e-02, -3.53e-01, -3.40e-01, -4.66e-01,  1.95e-01,  2.09e-01,  1.33e-01],\n",
      "        [ 4.39e-01,  6.33e-01,  1.12e+00, -4.28e-01,  2.71e+00,  4.13e-01,  2.85e+00,  6.06e+00,  7.56e-01, -1.12e+00, -2.17e-01,  2.64e-02,  5.38e-01,  2.20e-01,  2.47e-01],\n",
      "        [ 1.60e-01,  2.93e-01,  2.58e-01, -5.62e-01,  2.20e+00, -4.18e-03,  3.16e-01,  0.00e+00, -3.16e-01,  4.18e-03, -2.20e+00,  5.62e-01, -2.58e-01, -2.93e-01, -1.60e-01],\n",
      "        [-2.47e-01, -2.20e-01, -5.38e-01, -2.64e-02,  2.17e-01,  1.12e+00, -7.56e-01, -6.06e+00, -2.85e+00, -4.13e-01, -2.71e+00,  4.28e-01, -1.12e+00, -6.33e-01, -4.39e-01],\n",
      "        [-1.33e-01, -2.09e-01, -1.95e-01,  4.66e-01,  3.40e-01,  3.53e-01,  3.51e-02, -4.99e+00, -1.04e+00, -5.59e-01,  3.24e-01, -4.07e-01, -3.99e-01, -7.33e-01,  8.44e-02],\n",
      "        [-4.76e-02, -2.15e-02,  2.60e-02, -1.40e-01, -1.21e+00, -1.13e+00, -9.03e-02, -3.45e+00, -3.04e-01,  1.56e-02,  1.12e+00, -3.66e-01,  8.25e-01, -3.98e-02,  1.49e-01],\n",
      "        [ 7.86e-03, -1.13e-01, -1.90e-01, -4.69e-01, -5.86e-01, -6.09e-01, -6.91e-01, -5.65e-01,  3.25e-01, -6.98e-01,  5.07e-01, -7.17e-02,  4.24e-01,  2.11e-01, -1.21e-01],\n",
      "        [ 4.04e-02, -3.44e-01, -7.81e-02,  3.59e-02, -1.63e-01,  3.04e-01,  2.40e-02, -1.70e+00,  1.03e+00,  1.71e-01,  5.62e-01,  2.03e-01, -3.91e-01,  1.35e-01, -3.44e-02],\n",
      "        [-1.50e-01, -2.21e-01, -1.48e-01, -9.60e-02, -5.19e-01,  1.05e-01, -7.68e-01, -4.80e-01,  1.07e+00,  9.73e-01,  8.94e-01, -7.31e-02, -7.81e-02,  9.15e-02, -7.20e-02],\n",
      "        [-1.13e-01, -2.23e-01, -7.91e-02, -4.62e-03, -2.24e-01, -3.60e-01, -5.39e-01,  5.76e-01,  5.85e-01,  3.16e-01,  3.99e-01,  6.49e-02,  4.62e-02,  9.26e-02, -1.01e-01]])\n"
     ]
    },
    {
     "data": {
      "image/png": "[encoded data removed]",
      "text/plain": [
       "<Figure size 432x288 with 1 Axes>"
      ]
     },
     "metadata": {
      "needs_background": "light"
     },
     "output_type": "display_data"
    },
    {
     "data": {
      "image/png": "[encoded data removed]",
      "text/plain": [
       "<Figure size 432x288 with 1 Axes>"
      ]
     },
     "metadata": {
      "needs_background": "light"
     },
     "output_type": "display_data"
    }
   ],
   "source": [
    "torch.set_printoptions(precision=2, profile=\"full\", linewidth=250)\n",
    "print(im_rfft_small_shifted[4][0][:,:,1])\n",
    "print()\n",
    "print(im_rfft_smaller_shifted[0][:,:,1])\n",
    "plt.imshow(im_rfft_small_shifted[4][0][:,:,1])\n",
    "plt.show()\n",
    "plt.imshow(im_rfft_smaller_shifted[0][:,:,1])\n",
    "plt.show()\n",
    "torch.set_printoptions(profile=\"default\")"
   ]
  },
  {
   "cell_type": "code",
   "execution_count": 102,
   "metadata": {},
   "outputs": [
    {
     "data": {
      "text/plain": [
       "tensor(143)"
      ]
     },
     "execution_count": 102,
     "metadata": {},
     "output_type": "execute_result"
    }
   ],
   "source": [
    "im_rfft_smaller_shifted[0][:,:,1].argmin()"
   ]
  },
  {
   "cell_type": "code",
   "execution_count": 104,
   "metadata": {},
   "outputs": [
    {
     "name": "stdout",
     "output_type": "stream",
     "text": [
      "tensor(-6.0574)\n"
     ]
    }
   ],
   "source": [
    "print(im_rfft_smaller_shifted[0][:,:,1].min())"
   ]
  },
  {
   "cell_type": "code",
   "execution_count": null,
   "metadata": {},
   "outputs": [],
   "source": []
  }
 ],
 "metadata": {
  "kernelspec": {
   "display_name": "Python 3",
   "language": "python",
   "name": "python3"
  },
  "language_info": {
   "codemirror_mode": {
    "name": "ipython",
    "version": 3
   },
   "file_extension": ".py",
   "mimetype": "text/x-python",
   "name": "python",
   "nbconvert_exporter": "python",
   "pygments_lexer": "ipython3",
   "version": "3.7.0"
  }
 },
 "nbformat": 4,
 "nbformat_minor": 2
}
